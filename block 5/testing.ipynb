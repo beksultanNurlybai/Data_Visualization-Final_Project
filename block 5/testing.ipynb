{
 "cells": [
  {
   "cell_type": "code",
   "execution_count": 1,
   "id": "95617630-06cb-4bc4-b298-77cf1e35def1",
   "metadata": {},
   "outputs": [],
   "source": [
    "import pandas as pd"
   ]
  },
  {
   "cell_type": "markdown",
   "id": "1c132628-e074-401d-8393-debd08c3a956",
   "metadata": {},
   "source": [
    "### Task 1\n",
    "In the \"Audience Data\" tab, information about users who visited our app in November. What is the MAU of the product?\r\n",
    "*MAU (Monthly Active Users) is a metric used to measure user activity for one month. It shows the number of unique users who have interacted with a product, service, or application at least once in the last month."
   ]
  },
  {
   "cell_type": "code",
   "execution_count": 18,
   "id": "5bcfbf32-b8fa-4ce8-bde0-718535af5b4c",
   "metadata": {},
   "outputs": [
    {
     "name": "stdout",
     "output_type": "stream",
     "text": [
      "Monthly Active Users (MAU) for November 2023: 7639\n"
     ]
    }
   ],
   "source": [
    "df = pd.read_excel('data.xlsx', sheet_name='Данные об аудитории')\n",
    "\n",
    "mau = df['user_id'].nunique()\n",
    "print(f'Monthly Active Users (MAU) for November 2023: {mau}')"
   ]
  },
  {
   "cell_type": "markdown",
   "id": "6f330531-89b0-49b6-a446-7ea94574e01f",
   "metadata": {},
   "source": [
    "**Answer:** 7639"
   ]
  },
  {
   "cell_type": "markdown",
   "id": "f36e8dd0-2ac5-47d5-8509-33703c134027",
   "metadata": {},
   "source": [
    "### Task 2\n",
    "Using the \"Audience Data\" tab, calculate what the DAU will be.\r\n",
    "*DAU (Daily Active Users) is a metric that shows the number of unique users who have interacted with a product, application, or service at least once during the day. DAU helps to understand how many users actively use the product every day."
   ]
  },
  {
   "cell_type": "code",
   "execution_count": 57,
   "id": "0023375a-9da0-422a-aa24-12928ddccb26",
   "metadata": {},
   "outputs": [
    {
     "data": {
      "text/plain": [
       "560.4666666666667"
      ]
     },
     "execution_count": 57,
     "metadata": {},
     "output_type": "execute_result"
    }
   ],
   "source": [
    "dau = df.groupby(df['date'])['user_id'].nunique()\n",
    "\n",
    "dau_df = dau.reset_index(name='DAU')\n",
    "dau_df.columns = ['Date', 'DAU']\n",
    "dau_df['DAU'].mean()"
   ]
  },
  {
   "cell_type": "markdown",
   "id": "5f78dad8-c961-4629-b2d5-5460850fba92",
   "metadata": {},
   "source": [
    "**Answer:** 560"
   ]
  },
  {
   "cell_type": "markdown",
   "id": "1f10833b-abfb-4fbb-b8a6-9ae8ff362d86",
   "metadata": {},
   "source": [
    "### Task 3\n",
    "Using the \"Audience Data\" tab, calculate what the first-day retention rate will be for users who joined the product on November 1st.\n",
    "*Retention is a metric that shows how many users continue to use a product after a certain period following their initial interaction. Retention can be calculated as the percentage of users who returned to the product after a specific time (e.g., after 1 day, 1 week, 1 month) out of the total number of new users."
   ]
  },
  {
   "cell_type": "code",
   "execution_count": 60,
   "id": "effe9d5f-2038-4860-b34c-0dd3db926c42",
   "metadata": {},
   "outputs": [
    {
     "name": "stdout",
     "output_type": "stream",
     "text": [
      "First-Day Retention Rate for users who joined on November 1st: 26.65%\n"
     ]
    }
   ],
   "source": [
    "# Step 1: Identify new users on November 1st\n",
    "new_users_nov_1 = df[df['date'] == '2023-11-01']['user_id'].unique()\n",
    "num_new_users = len(new_users_nov_1)\n",
    "\n",
    "# Step 2: Track returning users on November 2nd\n",
    "returning_users_nov_2 = df[(df['date'] == '2023-11-02') & (df['user_id'].isin(new_users_nov_1))]['user_id'].unique()\n",
    "num_returning_users = len(returning_users_nov_2)\n",
    "\n",
    "# Step 3: Calculate retention rate\n",
    "if num_new_users > 0:\n",
    "    retention_rate = (num_returning_users / num_new_users) * 100\n",
    "else:\n",
    "    retention_rate = 0\n",
    "\n",
    "print(f'First-Day Retention Rate for users who joined on November 1st: {retention_rate:.2f}%')"
   ]
  },
  {
   "cell_type": "markdown",
   "id": "09aa1a87-93c9-4648-8598-01b7498aa0d2",
   "metadata": {},
   "source": [
    "**Answer:** 26,6%"
   ]
  },
  {
   "cell_type": "markdown",
   "id": "8c3fcab3-f237-4e78-8d90-81c44675a88e",
   "metadata": {},
   "source": [
    "### Task 4\n",
    "On the graph, there are retention curves for two products. What conclusions can be drawn by looking at them?"
   ]
  },
  {
   "cell_type": "markdown",
   "id": "63e96f14-dafc-459e-813d-afe34c22fced",
   "metadata": {},
   "source": [
    "**Answer:** Product 1 is more stable and decreases to a lesser extent than product 2. Product 2 reached zero on day 5, while product 1 was preserved by 50% on day 7."
   ]
  },
  {
   "cell_type": "markdown",
   "id": "0d350460-ad00-4995-80f5-650b1c52eb22",
   "metadata": {},
   "source": [
    "### Task 5\n",
    "In the \"Audience Data\" tab, there is information about how many ads each user has viewed (view_adverts). Do you calculate the user conversion per ad view for November? (in users)\r\n",
    "* User conversion is a metric that shows what percentage of users completed a target action relative to the total number of users. In the context of websites, this can be an action such as viewing an ad or clicking on an advertising banner."
   ]
  },
  {
   "cell_type": "code",
   "execution_count": 84,
   "id": "a8c4e210-8ddb-4da0-a7f2-a68fc816c648",
   "metadata": {},
   "outputs": [
    {
     "name": "stdout",
     "output_type": "stream",
     "text": [
      "User conversion per ad view: 0.1614 conv/view\n",
      "User conversation rate: 46.3 %\n"
     ]
    }
   ],
   "source": [
    "total_users = df['user_id'].nunique()\n",
    "conversions = df[df['view_adverts'] > 0]['user_id'].nunique()\n",
    "total_ad_views = november_data['view_adverts'].sum()\n",
    "\n",
    "if total_users > 0:\n",
    "    conversion_rate = conversions / total_users * 100\n",
    "else:\n",
    "    conversion_rate = 0\n",
    "\n",
    "if total_ad_views > 0:\n",
    "    conversion_per_ad_view = conversions / total_ad_views\n",
    "else:\n",
    "    conversion_per_ad_view = 0\n",
    "\n",
    "print(f'User conversion per ad view: {conversion_per_ad_view:.4f} conv/view')\n",
    "print(f'User conversation rate: {conversion_rate:.1f} %')"
   ]
  },
  {
   "cell_type": "markdown",
   "id": "0268fe40-0c83-406c-9c56-d0e93064d223",
   "metadata": {},
   "source": [
    "**Answer:** 46,3%"
   ]
  },
  {
   "cell_type": "markdown",
   "id": "668194cc-51dc-46f5-9e57-21135e16411b",
   "metadata": {},
   "source": [
    "### Task 6\n",
    "Using the information from the Audience Data tab, calculate the average number of ads viewed per user in November."
   ]
  },
  {
   "cell_type": "code",
   "execution_count": 88,
   "id": "5f55a5f6-b719-464b-b724-b6a34f64b42d",
   "metadata": {},
   "outputs": [
    {
     "name": "stdout",
     "output_type": "stream",
     "text": [
      "Total Ad Views: 21914\n",
      "Unique Users: 7639\n",
      "Average Ads Viewed per User in November: 2.87\n"
     ]
    }
   ],
   "source": [
    "total_ad_views = df['view_adverts'].sum()\n",
    "unique_users = november_data['user_id'].nunique()\n",
    "\n",
    "if unique_users > 0:\n",
    "    average_ads_per_user = total_ad_views / unique_users\n",
    "else:\n",
    "    average_ads_per_user = 0\n",
    "\n",
    "print(f'Total Ad Views: {total_ad_views}')\n",
    "print(f'Unique Users: {unique_users}')\n",
    "print(f'Average Ads Viewed per User in November: {average_ads_per_user:.2f}')"
   ]
  },
  {
   "cell_type": "markdown",
   "id": "70027d51-97cd-442e-9b05-b5fc7111fab8",
   "metadata": {},
   "source": [
    "**Answer:** 2,9"
   ]
  },
  {
   "cell_type": "markdown",
   "id": "29557d12-8406-47da-bdec-637b190d190f",
   "metadata": {},
   "source": [
    "### Task 7\n",
    "We conducted a survey among 2,000 users. Of them, 500 are \"critics,\" 1,200 are \"promoters,\" and 300 are \"neutrals.\" Calculate the NPS.\n",
    "* NPS (Net Promoter Score) — is a metric that measures user loyalty towards a company or product and categorizes them into three groups: Promoters, Passives, and Detractors. NPS is calculated as (% of promoters - % of detractors)."
   ]
  },
  {
   "cell_type": "markdown",
   "id": "42814ace-8c6a-4499-ae42-63003637ff4b",
   "metadata": {},
   "source": [
    "Formula is  NPS=%Promoters−%Detractors\n",
    "* Promoters: 1,200 users (60%)\r",
    "* \n",
    "Detractors: 500 users (25%)* \r\n",
    "Neutrals: 300 users (15%) — these are not included in the NPS calculatio\n",
    "* NPS=60%−25%=35%\n",
    "\n",
    "**Answer:** 35n."
   ]
  },
  {
   "cell_type": "markdown",
   "id": "f8df721a-7861-44f6-8809-b47faf7962b7",
   "metadata": {},
   "source": [
    "### Task 8\n",
    "In the \"AB Test Data\" tab, there are results of three unrelated AB tests for ARPU (total revenue/total number of users).\n",
    "\n",
    "\n",
    "Look at the test results and interpret them \n",
    "\r\n",
    "Write down the p-values you obtaine <br>\n",
    "d.\r\n",
    "Prepare conclusions and recommendatio <br>\n",
    "ns.\r\n",
    "Data Colu <br>\n",
    "\n",
    "ns:\r\n",
    "experiment_num: Experiment n <br>\n",
    "umber\r\n",
    "experiment_group: Group the user was assig ed to\r\n",
    "user_id:  <br>\n",
    "User ID\r\n",
    "revenue: Revenue generated by the user through purchasing a paid promotion service."
   ]
  },
  {
   "cell_type": "code",
   "execution_count": 125,
   "id": "44e14ef7-ae38-42f0-8b72-cf3bf4288f9b",
   "metadata": {},
   "outputs": [
    {
     "data": {
      "text/html": [
       "<div>\n",
       "<style scoped>\n",
       "    .dataframe tbody tr th:only-of-type {\n",
       "        vertical-align: middle;\n",
       "    }\n",
       "\n",
       "    .dataframe tbody tr th {\n",
       "        vertical-align: top;\n",
       "    }\n",
       "\n",
       "    .dataframe thead th {\n",
       "        text-align: right;\n",
       "    }\n",
       "</style>\n",
       "<table border=\"1\" class=\"dataframe\">\n",
       "  <thead>\n",
       "    <tr style=\"text-align: right;\">\n",
       "      <th></th>\n",
       "      <th>experiment_num</th>\n",
       "      <th>experiment_group</th>\n",
       "      <th>total_revenue</th>\n",
       "      <th>total_users</th>\n",
       "      <th>ARPU</th>\n",
       "    </tr>\n",
       "  </thead>\n",
       "  <tbody>\n",
       "    <tr>\n",
       "      <th>0</th>\n",
       "      <td>1</td>\n",
       "      <td>control</td>\n",
       "      <td>335944</td>\n",
       "      <td>465</td>\n",
       "      <td>722.460215</td>\n",
       "    </tr>\n",
       "    <tr>\n",
       "      <th>1</th>\n",
       "      <td>1</td>\n",
       "      <td>test</td>\n",
       "      <td>319555</td>\n",
       "      <td>480</td>\n",
       "      <td>665.739583</td>\n",
       "    </tr>\n",
       "    <tr>\n",
       "      <th>2</th>\n",
       "      <td>2</td>\n",
       "      <td>control</td>\n",
       "      <td>327664</td>\n",
       "      <td>465</td>\n",
       "      <td>704.653763</td>\n",
       "    </tr>\n",
       "    <tr>\n",
       "      <th>3</th>\n",
       "      <td>2</td>\n",
       "      <td>test</td>\n",
       "      <td>159806</td>\n",
       "      <td>480</td>\n",
       "      <td>332.929167</td>\n",
       "    </tr>\n",
       "    <tr>\n",
       "      <th>4</th>\n",
       "      <td>3</td>\n",
       "      <td>control</td>\n",
       "      <td>308391</td>\n",
       "      <td>465</td>\n",
       "      <td>663.206452</td>\n",
       "    </tr>\n",
       "    <tr>\n",
       "      <th>5</th>\n",
       "      <td>3</td>\n",
       "      <td>test</td>\n",
       "      <td>479361</td>\n",
       "      <td>480</td>\n",
       "      <td>998.668750</td>\n",
       "    </tr>\n",
       "  </tbody>\n",
       "</table>\n",
       "</div>"
      ],
      "text/plain": [
       "   experiment_num experiment_group  total_revenue  total_users        ARPU\n",
       "0               1          control         335944          465  722.460215\n",
       "1               1             test         319555          480  665.739583\n",
       "2               2          control         327664          465  704.653763\n",
       "3               2             test         159806          480  332.929167\n",
       "4               3          control         308391          465  663.206452\n",
       "5               3             test         479361          480  998.668750"
      ]
     },
     "execution_count": 125,
     "metadata": {},
     "output_type": "execute_result"
    }
   ],
   "source": [
    "df = pd.read_excel('data.xlsx', sheet_name='Данные АБ тестов')\n",
    "\n",
    "arpu_summary = df.groupby(['experiment_num', 'experiment_group']).agg(\n",
    "    total_revenue=('revenue', 'sum'),\n",
    "    total_users=('user_id', 'nunique')\n",
    ").reset_index()\n",
    "\n",
    "arpu_summary['ARPU'] = arpu_summary['total_revenue'] / arpu_summary['total_users']\n",
    "arpu_summary"
   ]
  },
  {
   "cell_type": "code",
   "execution_count": 127,
   "id": "ceb419ef-b005-4e7e-8ea9-dc4c129718b3",
   "metadata": {},
   "outputs": [
    {
     "data": {
      "text/plain": [
       "{1: 0.688966190624939, 2: 0.0011282266247294027, 3: 0.06031548002841902}"
      ]
     },
     "execution_count": 127,
     "metadata": {},
     "output_type": "execute_result"
    }
   ],
   "source": [
    "from scipy import stats\n",
    "\n",
    "results = {}\n",
    "\n",
    "for experiment in df['experiment_num'].unique():\n",
    "    test_group = df[(df['experiment_num'] == experiment) & (df['experiment_group'] == 'test')]\n",
    "    control_group = df[(df['experiment_num'] == experiment) & (df['experiment_group'] == 'control')]\n",
    "    \n",
    "    if len(test_group) > 0 and len(control_group) > 0:\n",
    "        t_stat, p_value = stats.ttest_ind(test_group['revenue'], control_group['revenue'], equal_var=False)\n",
    "        results[experiment] = p_value\n",
    "\n",
    "results"
   ]
  },
  {
   "cell_type": "markdown",
   "id": "7820d9ab-79c2-4ca5-8844-07fb2cca6383",
   "metadata": {},
   "source": [
    "**Answer:** Experiment 1 and 2 suggest that there is no evidence that ARPU of control group is higher than test group, while experiment 3 suggest that ARPU of control group is higher than test group. We need feather testing in order to get more accurate results."
   ]
  },
  {
   "cell_type": "markdown",
   "id": "d17bcec5-74f2-4405-869c-930475a52dae",
   "metadata": {},
   "source": [
    "### Task 9\n",
    "Calculate the average income per user based on the dataset with the listers."
   ]
  },
  {
   "cell_type": "code",
   "execution_count": 130,
   "id": "2bc167d0-9a5c-4ee8-864d-63174c0bdf03",
   "metadata": {},
   "outputs": [
    {
     "data": {
      "text/html": [
       "<div>\n",
       "<style scoped>\n",
       "    .dataframe tbody tr th:only-of-type {\n",
       "        vertical-align: middle;\n",
       "    }\n",
       "\n",
       "    .dataframe tbody tr th {\n",
       "        vertical-align: top;\n",
       "    }\n",
       "\n",
       "    .dataframe thead th {\n",
       "        text-align: right;\n",
       "    }\n",
       "</style>\n",
       "<table border=\"1\" class=\"dataframe\">\n",
       "  <thead>\n",
       "    <tr style=\"text-align: right;\">\n",
       "      <th></th>\n",
       "      <th>user_id</th>\n",
       "      <th>date</th>\n",
       "      <th>cnt_adverts</th>\n",
       "      <th>age</th>\n",
       "      <th>cnt_contacts</th>\n",
       "      <th>revenue</th>\n",
       "    </tr>\n",
       "  </thead>\n",
       "  <tbody>\n",
       "    <tr>\n",
       "      <th>0</th>\n",
       "      <td>100</td>\n",
       "      <td>2022-01-01</td>\n",
       "      <td>6</td>\n",
       "      <td>21</td>\n",
       "      <td>119</td>\n",
       "      <td>53</td>\n",
       "    </tr>\n",
       "    <tr>\n",
       "      <th>1</th>\n",
       "      <td>100</td>\n",
       "      <td>2022-01-02</td>\n",
       "      <td>2</td>\n",
       "      <td>21</td>\n",
       "      <td>200</td>\n",
       "      <td>18</td>\n",
       "    </tr>\n",
       "    <tr>\n",
       "      <th>2</th>\n",
       "      <td>100</td>\n",
       "      <td>2022-01-03</td>\n",
       "      <td>6</td>\n",
       "      <td>21</td>\n",
       "      <td>193</td>\n",
       "      <td>42</td>\n",
       "    </tr>\n",
       "    <tr>\n",
       "      <th>3</th>\n",
       "      <td>100</td>\n",
       "      <td>2022-01-04</td>\n",
       "      <td>2</td>\n",
       "      <td>21</td>\n",
       "      <td>143</td>\n",
       "      <td>38</td>\n",
       "    </tr>\n",
       "    <tr>\n",
       "      <th>4</th>\n",
       "      <td>100</td>\n",
       "      <td>2022-01-05</td>\n",
       "      <td>2</td>\n",
       "      <td>21</td>\n",
       "      <td>190</td>\n",
       "      <td>40</td>\n",
       "    </tr>\n",
       "  </tbody>\n",
       "</table>\n",
       "</div>"
      ],
      "text/plain": [
       "   user_id       date  cnt_adverts  age  cnt_contacts  revenue\n",
       "0      100 2022-01-01            6   21           119       53\n",
       "1      100 2022-01-02            2   21           200       18\n",
       "2      100 2022-01-03            6   21           193       42\n",
       "3      100 2022-01-04            2   21           143       38\n",
       "4      100 2022-01-05            2   21           190       40"
      ]
     },
     "execution_count": 130,
     "metadata": {},
     "output_type": "execute_result"
    }
   ],
   "source": [
    "df = pd.read_excel('data.xlsx', sheet_name='Листеры')\n",
    "df.head()"
   ]
  },
  {
   "cell_type": "code",
   "execution_count": 137,
   "id": "f0cd2dac-6035-4542-a8b7-d3600e49b2d0",
   "metadata": {},
   "outputs": [
    {
     "name": "stdout",
     "output_type": "stream",
     "text": [
      "Total Revenue: 4851\n",
      "Unique Users: 31\n",
      "Average Income per User: 156.48\n"
     ]
    }
   ],
   "source": [
    "df = pd.read_excel('data.xlsx', sheet_name='Листеры')\n",
    "\n",
    "total_revenue = df['revenue'].sum()\n",
    "unique_users = df['user_id'].nunique()\n",
    "\n",
    "if unique_users > 0:\n",
    "    average_income_per_user = total_revenue / unique_users\n",
    "else:\n",
    "    average_income_per_user = 0\n",
    "\n",
    "print(f'Total Revenue: {total_revenue}')\n",
    "print(f'Unique Users: {unique_users}')\n",
    "print(f'Average Income per User: {average_income_per_user:.2f}')"
   ]
  },
  {
   "cell_type": "markdown",
   "id": "4551ea95-1055-4e88-9e60-a57ea8401196",
   "metadata": {},
   "source": [
    "**Answer:** 156.4"
   ]
  },
  {
   "cell_type": "markdown",
   "id": "945469e1-09f1-4ff7-bd54-5bd0f843db20",
   "metadata": {},
   "source": [
    "### Task 10\n",
    "Based on the dataset with the listers, calculate the median age of the user"
   ]
  },
  {
   "cell_type": "code",
   "execution_count": 140,
   "id": "04aa4aab-3b0e-4351-863c-2cc7ec7a3361",
   "metadata": {},
   "outputs": [
    {
     "name": "stdout",
     "output_type": "stream",
     "text": [
      "Median Age of Users: 28.0\n"
     ]
    }
   ],
   "source": [
    "median_age = df['age'].median()\n",
    "\n",
    "print(f'Median Age of Users: {median_age}')"
   ]
  },
  {
   "cell_type": "markdown",
   "id": "1e5419d4-c2d2-4118-8e24-595600feb7cf",
   "metadata": {},
   "source": [
    "**Answer:** 28"
   ]
  },
  {
   "cell_type": "markdown",
   "id": "348855ef-6672-46e3-9f35-2053b98b7b28",
   "metadata": {},
   "source": [
    "### Task 11\n",
    "Which chart is best suited to display the spread of prices for goods in different stores?"
   ]
  },
  {
   "cell_type": "markdown",
   "id": "06d5fc72-422f-4fdf-aee5-5eb2ba152691",
   "metadata": {},
   "source": [
    "To display the spread of prices for goods in different stores, the best-suited chart types are box plot and histogram. Box plot is best for summarizing price distributions, showing median, quartiles, and outliers. Histogram is best for visualizing the frequency distribution of prices.\n",
    "**Answer:** histogram and box plot."
   ]
  },
  {
   "cell_type": "markdown",
   "id": "9f2589e9-5e40-4ff1-a84b-7c4dde28ffb3",
   "metadata": {},
   "source": [
    "### Task 12\n",
    "What is the bimodal distribution graph?"
   ]
  },
  {
   "cell_type": "markdown",
   "id": "10b47e9b-7dc9-44e8-9cc4-b1ab096d283e",
   "metadata": {},
   "source": [
    "**Answer:** 3rd picture. Becuase a graph with two peaks is called bimodal."
   ]
  },
  {
   "cell_type": "markdown",
   "id": "99528905-5410-4710-885d-b532a2b486c6",
   "metadata": {},
   "source": [
    "### Task 13\n",
    "Which random variable has the largest data variance according to the following distribution density graph?"
   ]
  },
  {
   "cell_type": "markdown",
   "id": "f08463ce-2ec0-4202-b656-b40fccd1e826",
   "metadata": {},
   "source": [
    "**Answer:** 3rd picture. Because its range of data is the largest."
   ]
  },
  {
   "cell_type": "markdown",
   "id": "0bb61746-5890-4832-85f2-aa8c3e5c0803",
   "metadata": {},
   "source": [
    "### Task 14\n",
    "On which graph can the correlation be calculated?"
   ]
  },
  {
   "cell_type": "markdown",
   "id": "e834478b-e1a6-4c64-a521-5434e3d5b652",
   "metadata": {},
   "source": [
    "**Answer:** scatter plot and correlation heatmap. Because a scatter plot shows the correlation of data, representing them as points, the distance between which can be measured using other points. Correlation heatmap is matrix table that represents data that related to each data points."
   ]
  },
  {
   "cell_type": "markdown",
   "id": "522a5b91-6639-4e56-8dbc-04b22358585c",
   "metadata": {},
   "source": [
    "### Task 15\n",
    "What does it mean if, when testing hypotheses, we got p-value = 0.05?\n",
    "\n",
    "a) This means that there is no statistically significant difference between the groups\n",
    "\n",
    "b) There is a 5% chance of accidentally getting this or an even more extreme result if the null hypothesis is correct\n",
    "\n",
    "c) This means that the results of the experiment are 95% accurate\n",
    "\n",
    "d) This suggests that the alternative hypothesis is correct with a probability of 95%\n"
   ]
  },
  {
   "cell_type": "markdown",
   "id": "666e0d4e-7fe1-426e-ba09-03819dc4e560",
   "metadata": {},
   "source": [
    "**Answer:** b"
   ]
  },
  {
   "cell_type": "markdown",
   "id": "74700f1c-8e10-4a16-a2c7-7c4946e90c7a",
   "metadata": {},
   "source": [
    "### Task 16\n",
    "Which method is most suitable for testing the hypothesis of equality of the average of two samples from a normal distribution?\r\n",
    "\n",
    "a) \n",
    "t-tes\n",
    "\n",
    "b) tChi-squar\n",
    "\n",
    "c)  testAnalysis of Variance (ANOVA\n",
    "\n",
    "d) )Pearson Correlation"
   ]
  },
  {
   "cell_type": "markdown",
   "id": "3b0f08c1-d6b4-42e4-acba-658a421429fc",
   "metadata": {},
   "source": [
    "**Answer:** t-test. Because The t-test is specifically designed to determine if there is a significant difference between the means of two groups. It is appropriate when the samples are drawn from normally distributed populations, especially when the population variances are unknown."
   ]
  },
  {
   "cell_type": "markdown",
   "id": "46ea23cc-bffb-4f44-9502-fd1650a7eeae",
   "metadata": {},
   "source": [
    "### Task 17\n",
    "How to interpret quartiles in the distribution of user income?\r\n",
    "a) \n",
    "They show the maximum and minimum income\n",
    "b) \r\n",
    "Divide the data into four equal part\n",
    "c) s\r\n",
    "Indicate the most common inco\n",
    "d) me\r\n",
    "Graph of the density distribution of matter in the universe\r\n"
   ]
  },
  {
   "cell_type": "markdown",
   "id": "f50761b6-f857-425e-b1b6-5fe13e6631ba",
   "metadata": {},
   "source": [
    "**Answer:** b) divide the data into four equal parts. Quartiles are statistical values that split a dataset into four equal parts, each containing 25% of the data points."
   ]
  },
  {
   "cell_type": "markdown",
   "id": "a94b4602-497d-4cef-ae48-6a8b326b8911",
   "metadata": {},
   "source": [
    "### Task 18\n",
    "The following results were obtained. Colleagues ask you to confirm them and make a final conclusion on the experiment.\n",
    "Option A (control group) — 100,047,501 visitors, 1003 payments.\n",
    "Option B (test group) — 100,001,055 visitors, 1099 payments.\n",
    "What recommendations would you make based on this data?\n"
   ]
  },
  {
   "cell_type": "markdown",
   "id": "4b61630b-9a16-4d51-97a6-7ad0357a88fa",
   "metadata": {},
   "source": [
    "Control Group (Option A):\n",
    "* Visitors: 100,047,501\n",
    "* Payments: 1,003\n",
    "Test Group (Option B):\n",
    "* Visitors: 100,001,055\n",
    "* Payments: 1,099\n",
    "\n",
    "Conversion Rate = \n",
    "Number of Visitor / \r\n",
    "Number of Paymen * \r\n",
    " \n",
    "\n",
    "Conversion Rate A = 100,047,501 / \n",
    "1,00 * 100 ≈ 0.001003%\n",
    "\n",
    "Conversion Rate B = \n",
    "100,001,05 / \r\n",
    "1,0 * \r\n",
    "  × 0.001099%100≈3×100"
   ]
  },
  {
   "cell_type": "markdown",
   "id": "f1328961-ca61-4894-8127-bd03d8716f65",
   "metadata": {},
   "source": [
    "**Answer:** The test group (Option B) has a higher conversion rate than the control group (Option A). This suggests that whatever changes were made in the test group may have positively influenced user behavior leading to more payments. My recommendation is to continue testing. Because since option b shows a higher conversion rate, consider continuing with the changes implemented in this group. However, further testing should be conducted to confirm that this improvement is consistent over time and across different user segments."
   ]
  },
  {
   "cell_type": "code",
   "execution_count": null,
   "id": "7b66d727-1501-4557-98d9-03c38df1fc39",
   "metadata": {},
   "outputs": [],
   "source": []
  }
 ],
 "metadata": {
  "kernelspec": {
   "display_name": "Python 3 (ipykernel)",
   "language": "python",
   "name": "python3"
  },
  "language_info": {
   "codemirror_mode": {
    "name": "ipython",
    "version": 3
   },
   "file_extension": ".py",
   "mimetype": "text/x-python",
   "name": "python",
   "nbconvert_exporter": "python",
   "pygments_lexer": "ipython3",
   "version": "3.12.4"
  }
 },
 "nbformat": 4,
 "nbformat_minor": 5
}
