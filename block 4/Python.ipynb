{
  "nbformat": 4,
  "nbformat_minor": 0,
  "metadata": {
    "colab": {
      "provenance": []
    },
    "kernelspec": {
      "name": "python3",
      "display_name": "Python 3"
    },
    "language_info": {
      "name": "python"
    }
  },
  "cells": [
    {
      "cell_type": "code",
      "source": [
        "from google.colab import drive\n",
        "import pandas as pd\n",
        "drive.mount('/content/drive')\n"
      ],
      "metadata": {
        "colab": {
          "base_uri": "https://localhost:8080/"
        },
        "id": "dxmUMIkfeyic",
        "outputId": "1f717df6-f70a-422a-bf00-bfea4d7814fb"
      },
      "execution_count": null,
      "outputs": [
        {
          "output_type": "stream",
          "name": "stdout",
          "text": [
            "Drive already mounted at /content/drive; to attempt to forcibly remount, call drive.mount(\"/content/drive\", force_remount=True).\n"
          ]
        }
      ]
    },
    {
      "cell_type": "code",
      "source": [
        "file_path = '/content/drive/MyDrive/Dataset FInal Project/data.csv'\n",
        "data = pd.read_csv(file_path)\n",
        "print(data.head())\n"
      ],
      "metadata": {
        "colab": {
          "base_uri": "https://localhost:8080/"
        },
        "id": "JsM7F_2ifEUJ",
        "outputId": "3413d335-c373-493e-eba8-f9e80c0e5a37"
      },
      "execution_count": null,
      "outputs": [
        {
          "output_type": "stream",
          "name": "stdout",
          "text": [
            "         Дата  Склад Контрагент Номенклатура  Количество\n",
            "0  2018-01-04      1  address_0    product_0           4\n",
            "1  2018-01-04      1  address_0    product_1           4\n",
            "2  2018-01-04      1  address_0    product_2           5\n",
            "3  2018-01-04      1  address_0    product_3          10\n",
            "4  2018-01-04      1  address_0    product_4           2\n"
          ]
        }
      ]
    },
    {
      "cell_type": "markdown",
      "source": [
        "Проверяем формат столбцов"
      ],
      "metadata": {
        "id": "j9Y05dG9fd4K"
      }
    },
    {
      "cell_type": "code",
      "source": [
        "print(data.dtypes)"
      ],
      "metadata": {
        "colab": {
          "base_uri": "https://localhost:8080/"
        },
        "id": "v87TtQ44fkk4",
        "outputId": "caf34af0-c9e4-4942-c512-4150f16123de"
      },
      "execution_count": null,
      "outputs": [
        {
          "output_type": "stream",
          "name": "stdout",
          "text": [
            "Дата            object\n",
            "Склад            int64\n",
            "Контрагент      object\n",
            "Номенклатура    object\n",
            "Количество       int64\n",
            "dtype: object\n"
          ]
        }
      ]
    },
    {
      "cell_type": "markdown",
      "source": [
        "Сразу переведем столбец \"Дата\" в правильный формат"
      ],
      "metadata": {
        "id": "rJfLqBlZf1wR"
      }
    },
    {
      "cell_type": "code",
      "source": [
        "data['Дата'] = pd.to_datetime(data['Дата'], errors='coerce')\n",
        "print(data['Дата'].head())"
      ],
      "metadata": {
        "colab": {
          "base_uri": "https://localhost:8080/"
        },
        "id": "kDP3H8emfuDc",
        "outputId": "d847ba7c-26cc-44ab-9528-b657012d4682"
      },
      "execution_count": null,
      "outputs": [
        {
          "output_type": "stream",
          "name": "stdout",
          "text": [
            "0   2018-01-04\n",
            "1   2018-01-04\n",
            "2   2018-01-04\n",
            "3   2018-01-04\n",
            "4   2018-01-04\n",
            "Name: Дата, dtype: datetime64[ns]\n"
          ]
        }
      ]
    },
    {
      "cell_type": "markdown",
      "source": [
        "Сгруппируйте данные по дате, посчитайте количество продаж"
      ],
      "metadata": {
        "id": "_CVoGXtOf_hU"
      }
    },
    {
      "cell_type": "code",
      "source": [
        "import pandas as pd\n",
        "\n",
        "# Assuming 'data' is your DataFrame\n",
        "data['Дата'] = pd.to_datetime(data['Дата'], errors='coerce')  # Convert 'Дата' to datetime if not already\n",
        "\n",
        "# Grouping by 'Дата' and summing 'Количество' to get the total sales per day\n",
        "grouped_df = data.groupby('Дата')['Количество'].sum().reset_index(name='Общее количество продаж')\n",
        "\n",
        "# Display the result\n",
        "print(grouped_df)"
      ],
      "metadata": {
        "colab": {
          "base_uri": "https://localhost:8080/"
        },
        "id": "Q9q3dc0Zgclf",
        "outputId": "a3fb4878-503c-410c-acfd-6e15770a43d0"
      },
      "execution_count": null,
      "outputs": [
        {
          "output_type": "stream",
          "name": "stdout",
          "text": [
            "          Дата  Общее количество продаж\n",
            "0   2018-01-04                     3734\n",
            "1   2018-01-05                     3643\n",
            "2   2018-01-06                     3193\n",
            "3   2018-01-07                     3298\n",
            "4   2018-01-09                     4055\n",
            "..         ...                      ...\n",
            "200 2018-08-26                     5302\n",
            "201 2018-08-28                     5983\n",
            "202 2018-08-29                     4969\n",
            "203 2018-08-30                     4648\n",
            "204 2018-08-31                     4570\n",
            "\n",
            "[205 rows x 2 columns]\n"
          ]
        }
      ]
    },
    {
      "cell_type": "markdown",
      "source": [
        "Вывести несколько первых строк сгруппированных данных"
      ],
      "metadata": {
        "id": "sN29E497ghtS"
      }
    },
    {
      "cell_type": "code",
      "source": [
        "import pandas as pd\n",
        "\n",
        "# Преобразуем столбец 'Дата' в формат datetime (если это не сделано)\n",
        "data['Дата'] = pd.to_datetime(data['Дата'], errors='coerce')\n",
        "\n",
        "# Группируем по дате и суммируем 'Количество'\n",
        "grouped_df = data.groupby('Дата')['Количество'].sum().reset_index(name='Общее количество продаж')\n",
        "\n",
        "# Выводим первые несколько строк сгруппированных данных\n",
        "print(grouped_df.head())"
      ],
      "metadata": {
        "colab": {
          "base_uri": "https://localhost:8080/"
        },
        "id": "SifI1vFpgp3E",
        "outputId": "b35bcad0-50a3-4d3c-d448-9beff74ca820"
      },
      "execution_count": null,
      "outputs": [
        {
          "output_type": "stream",
          "name": "stdout",
          "text": [
            "        Дата  Общее количество продаж\n",
            "0 2018-01-04                     3734\n",
            "1 2018-01-05                     3643\n",
            "2 2018-01-06                     3193\n",
            "3 2018-01-07                     3298\n",
            "4 2018-01-09                     4055\n"
          ]
        }
      ]
    },
    {
      "cell_type": "markdown",
      "source": [
        "Нарисуйте график продаж у `grouped_df`"
      ],
      "metadata": {
        "id": "tma6FQjHg8ag"
      }
    },
    {
      "cell_type": "code",
      "source": [
        "import matplotlib.pyplot as plt\n",
        "\n",
        "# Строим график продаж по дате\n",
        "plt.figure(figsize=(10, 6))  # Устанавливаем размер графика\n",
        "plt.plot(grouped_df['Дата'], grouped_df['Общее количество продаж'], marker='o', linestyle='-', color='b')\n",
        "\n",
        "# Добавляем подписи и заголовок\n",
        "plt.title('Продажи по дням', fontsize=14)\n",
        "plt.xlabel('Дата', fontsize=12)\n",
        "plt.ylabel('Общее количество продаж', fontsize=12)\n",
        "\n",
        "# Поворот меток на оси X для лучшей читаемости\n",
        "plt.xticks(rotation=45)\n",
        "\n",
        "# Показать график\n",
        "plt.tight_layout()\n",
        "plt.show()"
      ],
      "metadata": {
        "colab": {
          "base_uri": "https://localhost:8080/",
          "height": 607
        },
        "id": "mn3ai9tXhOnM",
        "outputId": "d29a18e6-efaa-407f-ac02-fd70e6e14fe6"
      },
      "execution_count": null,
      "outputs": [
        {
          "output_type": "display_data",
          "data": {
            "text/plain": [
              "<Figure size 1000x600 with 1 Axes>"
            ],
            "image/png": "[encoded data removed]"
          },
          "metadata": {}
        }
      ]
    },
    {
      "cell_type": "markdown",
      "source": [
        "Опишите что вы видите на графике. Ваша задача - максимально описать график"
      ],
      "metadata": {
        "id": "JWo4pllphq2c"
      }
    },
    {
      "cell_type": "markdown",
      "source": [
        "Описание графика:\n",
        "\n",
        "Тип графика: График представляет собой линейную диаграмму, где ось X отображает даты, а ось Y — общее количество продаж, выраженное числом. График имеет маркеры (круги), показывающие каждую точку данных, и соединяющие их линии, что позволяет наблюдать тренды и изменения в продажах с течением времени.\n",
        "\n",
        "Ось X (Даты): Ось X представляет собой временную шкалу, на которой указаны даты, для которых были рассчитаны продажи. Даты могут быть расположены с определенным интервалом, например, каждый день, и метки оси X могут быть повёрнуты для улучшения читаемости. Если данных много, метки могут быть расположены не на каждом дне, а через определённый интервал, чтобы избежать перегрузки.\n",
        "\n",
        "Рост: Если линия поднимается вверх, это может означать увеличение спроса или успешную маркетинговую кампанию.\n",
        "Падение: Если линия опускается вниз, это может указывать на снижение продаж, возможно из-за сезонных колебаний или других факторов.\n",
        "Маркеры (точки данных): Каждая точка на графике представляет собой конкретное количество продаж для конкретной даты. Маркеры могут быть округлыми (кружочками), что позволяет легко выделить отдельные даты и видеть точные значения для каждой даты.\n",
        "\n",
        "Заголовок: График может иметь заголовок, например, \"Продажи по дням\", что позволяет быстро понять его содержание.\n",
        "Подписи осей: Ось X может быть подписана как \"Дата\", а ось Y — как \"Общее количество продаж\", что также помогает понять, что именно измеряется на графике.\n",
        "Стиль графика:\n",
        "\n",
        "Линия графика может быть синего цвета (или другого, в зависимости от настроек), с маркерами (кружочками) для выделения точек данных.\n",
        "График может быть простым и четким, с не слишком насыщенными цветами, чтобы информация была легко воспринимаема.\n",
        "Тренды и паттерны: На графике можно будет заметить тренды, такие как:\n",
        "\n",
        "Сезонные колебания: Возможно, в определенные дни или недели продажи могут увеличиваться (например, в преддверии праздников) или падать.\n",
        "Пиковые дни: Некоторые дни могут показывать резкие пики в продажах, что может быть связано с акциями или специальными предложениями.\n",
        "Понижения: В другие дни линия может опускаться, показывая снижение продаж."
      ],
      "metadata": {
        "id": "dvz7HfvDh5ZM"
      }
    },
    {
      "cell_type": "code",
      "source": [
        "import pandas as pd\n",
        "\n",
        "# Предполагаем, что 'data' — это ваш DataFrame\n",
        "# Рассчитываем квартали (Q1, Q3) и межквартильный размах (IQR)\n",
        "Q1 = data['Количество'].quantile(0.25)\n",
        "Q3 = data['Количество'].quantile(0.75)\n",
        "IQR = Q3 - Q1\n",
        "\n",
        "# Определяем границы для выбросов\n",
        "lower_bound = Q1 - 1.5 * IQR\n",
        "upper_bound = Q3 + 1.5 * IQR\n",
        "\n",
        "# Находим строки, которые являются выбросами\n",
        "outliers = data[(data['Количество'] < lower_bound) | (data['Количество'] > upper_bound)]\n",
        "\n",
        "# Находим строку с максимальным выбросом по количеству продаж\n",
        "max_outlier = outliers.loc[outliers['Количество'].idxmax()]\n",
        "\n",
        "# Выводим строку с максимальным выбросом\n",
        "print(max_outlier)"
      ],
      "metadata": {
        "colab": {
          "base_uri": "https://localhost:8080/"
        },
        "id": "EgDudZhbiW20",
        "outputId": "83c5a23c-353c-4569-b661-136d6eb6cede"
      },
      "execution_count": null,
      "outputs": [
        {
          "output_type": "stream",
          "name": "stdout",
          "text": [
            "Дата            2018-06-28 00:00:00\n",
            "Склад                             1\n",
            "Контрагент              address_208\n",
            "Номенклатура              product_0\n",
            "Количество                      200\n",
            "Name: 218822, dtype: object\n"
          ]
        }
      ]
    },
    {
      "cell_type": "code",
      "source": [
        "import pandas as pd\n",
        "\n",
        "# Преобразуем столбец 'Дата' в тип datetime (если это не сделано)\n",
        "data['Дата'] = pd.to_datetime(data['Дата'], errors='coerce')\n",
        "\n",
        "# Фильтруем данные за июнь, июль и август\n",
        "data_filtered = data[(data['Дата'].dt.month.isin([6, 7, 8]))]\n",
        "\n",
        "# Фильтруем только данные по средам (день недели = 2)\n",
        "data_filtered = data_filtered[data_filtered['Дата'].dt.weekday == 2]\n",
        "\n",
        "# Группируем по товару и складу, суммируем количество продаж\n",
        "grouped_data = data_filtered.groupby(['Склад', 'Номенклатура'])['Количество'].sum().reset_index()\n",
        "\n",
        "# Находим топовый товар для каждого склада\n",
        "top_products = grouped_data.loc[grouped_data.groupby('Склад')['Количество'].idxmax()]\n",
        "\n",
        "# Выводим результат\n",
        "print(top_products)"
      ],
      "metadata": {
        "colab": {
          "base_uri": "https://localhost:8080/"
        },
        "id": "1Jo30eT7jRlz",
        "outputId": "95845334-a2b6-439e-ce40-f52340adb1fa"
      },
      "execution_count": null,
      "outputs": [
        {
          "output_type": "stream",
          "name": "stdout",
          "text": [
            "    Склад Номенклатура  Количество\n",
            "1       1    product_1        2981\n",
            "24      2    product_1        2887\n",
            "46      3    product_1        2267\n",
            "69      4    product_1        2385\n",
            "92      5    product_1        1956\n"
          ]
        }
      ]
    },
    {
      "cell_type": "code",
      "source": [
        "weather_df = pd.read_excel('/content/drive/MyDrive/Dataset FInal Project/weather.xls', skiprows=6)\n",
        "weather_df.head()"
      ],
      "metadata": {
        "colab": {
          "base_uri": "https://localhost:8080/",
          "height": 340
        },
        "id": "YdyZ3Aw_l5ts",
        "outputId": "2783ce56-3dd4-49ea-dad9-8fad4fa97cd9"
      },
      "execution_count": null,
      "outputs": [
        {
          "output_type": "execute_result",
          "data": {
            "text/plain": [
              "  Местное время в Астане    T     Po      P   Pa     U  \\\n",
              "0       01.09.2018 23:00  5.5  737.1  769.1  0.1  84.0   \n",
              "1       01.09.2018 20:00  6.1  737.0  769.0  1.0  78.0   \n",
              "2       01.09.2018 17:00  7.5  736.0  767.7  0.2  78.0   \n",
              "3       01.09.2018 14:00  9.1  735.8  767.4 -0.5  55.0   \n",
              "4       01.09.2018 11:00  7.7  736.3  768.1 -0.2  61.0   \n",
              "\n",
              "                                      DD  Ff  ff10  ff3  ...  \\\n",
              "0  Ветер, дующий с северо-северо-востока   2   NaN  NaN  ...   \n",
              "1                 Ветер, дующий с севера   2   NaN  NaN  ...   \n",
              "2         Ветер, дующий с северо-востока   1   NaN  NaN  ...   \n",
              "3  Ветер, дующий с северо-северо-востока   3   NaN  NaN  ...   \n",
              "4  Ветер, дующий с северо-северо-востока   3   NaN  NaN  ...   \n",
              "\n",
              "                                                  Cm  \\\n",
              "0                                                NaN   \n",
              "1  Высококучевых, высокослоистых или слоисто-дожд...   \n",
              "2  Высококучевых, высокослоистых или слоисто-дожд...   \n",
              "3  Высококучевых, высокослоистых или слоисто-дожд...   \n",
              "4                                                NaN   \n",
              "\n",
              "                                                  Ch    VV   Td  \\\n",
              "0                                                NaN   NaN  2.9   \n",
              "1  Перистых, перисто-кучевых или перисто-слоистых...   NaN  2.5   \n",
              "2  Перистых, перисто-кучевых или перисто-слоистых...  10.0  3.8   \n",
              "3  Перистых, перисто-кучевых или перисто-слоистых...  10.0  0.5   \n",
              "4                                                NaN  10.0  0.5   \n",
              "\n",
              "             RRR    tR    E  Tg   E'  sss  \n",
              "0  Следы осадков  12.0  NaN NaN  NaN  NaN  \n",
              "1  Следы осадков  12.0  NaN NaN  NaN  NaN  \n",
              "2            NaN   NaN  NaN NaN  NaN  NaN  \n",
              "3            NaN   NaN  NaN NaN  NaN  NaN  \n",
              "4  Следы осадков  12.0  NaN NaN  NaN  NaN  \n",
              "\n",
              "[5 rows x 29 columns]"
            ],
            "text/html": [
              "\n",
              "  <div id=\"df-3c3007ae-0262-4d98-88f2-995203634869\" class=\"colab-df-container\">\n",
              "    <div>\n",
              "<style scoped>\n",
              "    .dataframe tbody tr th:only-of-type {\n",
              "        vertical-align: middle;\n",
              "    }\n",
              "\n",
              "    .dataframe tbody tr th {\n",
              "        vertical-align: top;\n",
              "    }\n",
              "\n",
              "    .dataframe thead th {\n",
              "        text-align: right;\n",
              "    }\n",
              "</style>\n",
              "<table border=\"1\" class=\"dataframe\">\n",
              "  <thead>\n",
              "    <tr style=\"text-align: right;\">\n",
              "      <th></th>\n",
              "      <th>Местное время в Астане</th>\n",
              "      <th>T</th>\n",
              "      <th>Po</th>\n",
              "      <th>P</th>\n",
              "      <th>Pa</th>\n",
              "      <th>U</th>\n",
              "      <th>DD</th>\n",
              "      <th>Ff</th>\n",
              "      <th>ff10</th>\n",
              "      <th>ff3</th>\n",
              "      <th>...</th>\n",
              "      <th>Cm</th>\n",
              "      <th>Ch</th>\n",
              "      <th>VV</th>\n",
              "      <th>Td</th>\n",
              "      <th>RRR</th>\n",
              "      <th>tR</th>\n",
              "      <th>E</th>\n",
              "      <th>Tg</th>\n",
              "      <th>E'</th>\n",
              "      <th>sss</th>\n",
              "    </tr>\n",
              "  </thead>\n",
              "  <tbody>\n",
              "    <tr>\n",
              "      <th>0</th>\n",
              "      <td>01.09.2018 23:00</td>\n",
              "      <td>5.5</td>\n",
              "      <td>737.1</td>\n",
              "      <td>769.1</td>\n",
              "      <td>0.1</td>\n",
              "      <td>84.0</td>\n",
              "      <td>Ветер, дующий с северо-северо-востока</td>\n",
              "      <td>2</td>\n",
              "      <td>NaN</td>\n",
              "      <td>NaN</td>\n",
              "      <td>...</td>\n",
              "      <td>NaN</td>\n",
              "      <td>NaN</td>\n",
              "      <td>NaN</td>\n",
              "      <td>2.9</td>\n",
              "      <td>Следы осадков</td>\n",
              "      <td>12.0</td>\n",
              "      <td>NaN</td>\n",
              "      <td>NaN</td>\n",
              "      <td>NaN</td>\n",
              "      <td>NaN</td>\n",
              "    </tr>\n",
              "    <tr>\n",
              "      <th>1</th>\n",
              "      <td>01.09.2018 20:00</td>\n",
              "      <td>6.1</td>\n",
              "      <td>737.0</td>\n",
              "      <td>769.0</td>\n",
              "      <td>1.0</td>\n",
              "      <td>78.0</td>\n",
              "      <td>Ветер, дующий с севера</td>\n",
              "      <td>2</td>\n",
              "      <td>NaN</td>\n",
              "      <td>NaN</td>\n",
              "      <td>...</td>\n",
              "      <td>Высококучевых, высокослоистых или слоисто-дожд...</td>\n",
              "      <td>Перистых, перисто-кучевых или перисто-слоистых...</td>\n",
              "      <td>NaN</td>\n",
              "      <td>2.5</td>\n",
              "      <td>Следы осадков</td>\n",
              "      <td>12.0</td>\n",
              "      <td>NaN</td>\n",
              "      <td>NaN</td>\n",
              "      <td>NaN</td>\n",
              "      <td>NaN</td>\n",
              "    </tr>\n",
              "    <tr>\n",
              "      <th>2</th>\n",
              "      <td>01.09.2018 17:00</td>\n",
              "      <td>7.5</td>\n",
              "      <td>736.0</td>\n",
              "      <td>767.7</td>\n",
              "      <td>0.2</td>\n",
              "      <td>78.0</td>\n",
              "      <td>Ветер, дующий с северо-востока</td>\n",
              "      <td>1</td>\n",
              "      <td>NaN</td>\n",
              "      <td>NaN</td>\n",
              "      <td>...</td>\n",
              "      <td>Высококучевых, высокослоистых или слоисто-дожд...</td>\n",
              "      <td>Перистых, перисто-кучевых или перисто-слоистых...</td>\n",
              "      <td>10.0</td>\n",
              "      <td>3.8</td>\n",
              "      <td>NaN</td>\n",
              "      <td>NaN</td>\n",
              "      <td>NaN</td>\n",
              "      <td>NaN</td>\n",
              "      <td>NaN</td>\n",
              "      <td>NaN</td>\n",
              "    </tr>\n",
              "    <tr>\n",
              "      <th>3</th>\n",
              "      <td>01.09.2018 14:00</td>\n",
              "      <td>9.1</td>\n",
              "      <td>735.8</td>\n",
              "      <td>767.4</td>\n",
              "      <td>-0.5</td>\n",
              "      <td>55.0</td>\n",
              "      <td>Ветер, дующий с северо-северо-востока</td>\n",
              "      <td>3</td>\n",
              "      <td>NaN</td>\n",
              "      <td>NaN</td>\n",
              "      <td>...</td>\n",
              "      <td>Высококучевых, высокослоистых или слоисто-дожд...</td>\n",
              "      <td>Перистых, перисто-кучевых или перисто-слоистых...</td>\n",
              "      <td>10.0</td>\n",
              "      <td>0.5</td>\n",
              "      <td>NaN</td>\n",
              "      <td>NaN</td>\n",
              "      <td>NaN</td>\n",
              "      <td>NaN</td>\n",
              "      <td>NaN</td>\n",
              "      <td>NaN</td>\n",
              "    </tr>\n",
              "    <tr>\n",
              "      <th>4</th>\n",
              "      <td>01.09.2018 11:00</td>\n",
              "      <td>7.7</td>\n",
              "      <td>736.3</td>\n",
              "      <td>768.1</td>\n",
              "      <td>-0.2</td>\n",
              "      <td>61.0</td>\n",
              "      <td>Ветер, дующий с северо-северо-востока</td>\n",
              "      <td>3</td>\n",
              "      <td>NaN</td>\n",
              "      <td>NaN</td>\n",
              "      <td>...</td>\n",
              "      <td>NaN</td>\n",
              "      <td>NaN</td>\n",
              "      <td>10.0</td>\n",
              "      <td>0.5</td>\n",
              "      <td>Следы осадков</td>\n",
              "      <td>12.0</td>\n",
              "      <td>NaN</td>\n",
              "      <td>NaN</td>\n",
              "      <td>NaN</td>\n",
              "      <td>NaN</td>\n",
              "    </tr>\n",
              "  </tbody>\n",
              "</table>\n",
              "<p>5 rows × 29 columns</p>\n",
              "</div>\n",
              "    <div class=\"colab-df-buttons\">\n",
              "\n",
              "  <div class=\"colab-df-container\">\n",
              "    <button class=\"colab-df-convert\" onclick=\"convertToInteractive('df-3c3007ae-0262-4d98-88f2-995203634869')\"\n",
              "            title=\"Convert this dataframe to an interactive table.\"\n",
              "            style=\"display:none;\">\n",
              "\n",
              "  <svg xmlns=\"http://www.w3.org/2000/svg\" height=\"24px\" viewBox=\"0 -960 960 960\">\n",
              "    <path d=\"M120-120v-720h720v720H120Zm60-500h600v-160H180v160Zm220 220h160v-160H400v160Zm0 220h160v-160H400v160ZM180-400h160v-160H180v160Zm440 0h160v-160H620v160ZM180-180h160v-160H180v160Zm440 0h160v-160H620v160Z\"/>\n",
              "  </svg>\n",
              "    </button>\n",
              "\n",
              "  <style>\n",
              "    .colab-df-container {\n",
              "      display:flex;\n",
              "      gap: 12px;\n",
              "    }\n",
              "\n",
              "    .colab-df-convert {\n",
              "      background-color: #E8F0FE;\n",
              "      border: none;\n",
              "      border-radius: 50%;\n",
              "      cursor: pointer;\n",
              "      display: none;\n",
              "      fill: #1967D2;\n",
              "      height: 32px;\n",
              "      padding: 0 0 0 0;\n",
              "      width: 32px;\n",
              "    }\n",
              "\n",
              "    .colab-df-convert:hover {\n",
              "      background-color: #E2EBFA;\n",
              "      box-shadow: 0px 1px 2px rgba(60, 64, 67, 0.3), 0px 1px 3px 1px rgba(60, 64, 67, 0.15);\n",
              "      fill: #174EA6;\n",
              "    }\n",
              "\n",
              "    .colab-df-buttons div {\n",
              "      margin-bottom: 4px;\n",
              "    }\n",
              "\n",
              "    [theme=dark] .colab-df-convert {\n",
              "      background-color: #3B4455;\n",
              "      fill: #D2E3FC;\n",
              "    }\n",
              "\n",
              "    [theme=dark] .colab-df-convert:hover {\n",
              "      background-color: #434B5C;\n",
              "      box-shadow: 0px 1px 3px 1px rgba(0, 0, 0, 0.15);\n",
              "      filter: drop-shadow(0px 1px 2px rgba(0, 0, 0, 0.3));\n",
              "      fill: #FFFFFF;\n",
              "    }\n",
              "  </style>\n",
              "\n",
              "    <script>\n",
              "      const buttonEl =\n",
              "        document.querySelector('#df-3c3007ae-0262-4d98-88f2-995203634869 button.colab-df-convert');\n",
              "      buttonEl.style.display =\n",
              "        google.colab.kernel.accessAllowed ? 'block' : 'none';\n",
              "\n",
              "      async function convertToInteractive(key) {\n",
              "        const element = document.querySelector('#df-3c3007ae-0262-4d98-88f2-995203634869');\n",
              "        const dataTable =\n",
              "          await google.colab.kernel.invokeFunction('convertToInteractive',\n",
              "                                                    [key], {});\n",
              "        if (!dataTable) return;\n",
              "\n",
              "        const docLinkHtml = 'Like what you see? Visit the ' +\n",
              "          '<a target=\"_blank\" href=https://colab.research.google.com/notebooks/data_table.ipynb>data table notebook</a>'\n",
              "          + ' to learn more about interactive tables.';\n",
              "        element.innerHTML = '';\n",
              "        dataTable['output_type'] = 'display_data';\n",
              "        await google.colab.output.renderOutput(dataTable, element);\n",
              "        const docLink = document.createElement('div');\n",
              "        docLink.innerHTML = docLinkHtml;\n",
              "        element.appendChild(docLink);\n",
              "      }\n",
              "    </script>\n",
              "  </div>\n",
              "\n",
              "\n",
              "<div id=\"df-43574750-247a-44d1-800c-029d32f9427c\">\n",
              "  <button class=\"colab-df-quickchart\" onclick=\"quickchart('df-43574750-247a-44d1-800c-029d32f9427c')\"\n",
              "            title=\"Suggest charts\"\n",
              "            style=\"display:none;\">\n",
              "\n",
              "<svg xmlns=\"http://www.w3.org/2000/svg\" height=\"24px\"viewBox=\"0 0 24 24\"\n",
              "     width=\"24px\">\n",
              "    <g>\n",
              "        <path d=\"M19 3H5c-1.1 0-2 .9-2 2v14c0 1.1.9 2 2 2h14c1.1 0 2-.9 2-2V5c0-1.1-.9-2-2-2zM9 17H7v-7h2v7zm4 0h-2V7h2v10zm4 0h-2v-4h2v4z\"/>\n",
              "    </g>\n",
              "</svg>\n",
              "  </button>\n",
              "\n",
              "<style>\n",
              "  .colab-df-quickchart {\n",
              "      --bg-color: #E8F0FE;\n",
              "      --fill-color: #1967D2;\n",
              "      --hover-bg-color: #E2EBFA;\n",
              "      --hover-fill-color: #174EA6;\n",
              "      --disabled-fill-color: #AAA;\n",
              "      --disabled-bg-color: #DDD;\n",
              "  }\n",
              "\n",
              "  [theme=dark] .colab-df-quickchart {\n",
              "      --bg-color: #3B4455;\n",
              "      --fill-color: #D2E3FC;\n",
              "      --hover-bg-color: #434B5C;\n",
              "      --hover-fill-color: #FFFFFF;\n",
              "      --disabled-bg-color: #3B4455;\n",
              "      --disabled-fill-color: #666;\n",
              "  }\n",
              "\n",
              "  .colab-df-quickchart {\n",
              "    background-color: var(--bg-color);\n",
              "    border: none;\n",
              "    border-radius: 50%;\n",
              "    cursor: pointer;\n",
              "    display: none;\n",
              "    fill: var(--fill-color);\n",
              "    height: 32px;\n",
              "    padding: 0;\n",
              "    width: 32px;\n",
              "  }\n",
              "\n",
              "  .colab-df-quickchart:hover {\n",
              "    background-color: var(--hover-bg-color);\n",
              "    box-shadow: 0 1px 2px rgba(60, 64, 67, 0.3), 0 1px 3px 1px rgba(60, 64, 67, 0.15);\n",
              "    fill: var(--button-hover-fill-color);\n",
              "  }\n",
              "\n",
              "  .colab-df-quickchart-complete:disabled,\n",
              "  .colab-df-quickchart-complete:disabled:hover {\n",
              "    background-color: var(--disabled-bg-color);\n",
              "    fill: var(--disabled-fill-color);\n",
              "    box-shadow: none;\n",
              "  }\n",
              "\n",
              "  .colab-df-spinner {\n",
              "    border: 2px solid var(--fill-color);\n",
              "    border-color: transparent;\n",
              "    border-bottom-color: var(--fill-color);\n",
              "    animation:\n",
              "      spin 1s steps(1) infinite;\n",
              "  }\n",
              "\n",
              "  @keyframes spin {\n",
              "    0% {\n",
              "      border-color: transparent;\n",
              "      border-bottom-color: var(--fill-color);\n",
              "      border-left-color: var(--fill-color);\n",
              "    }\n",
              "    20% {\n",
              "      border-color: transparent;\n",
              "      border-left-color: var(--fill-color);\n",
              "      border-top-color: var(--fill-color);\n",
              "    }\n",
              "    30% {\n",
              "      border-color: transparent;\n",
              "      border-left-color: var(--fill-color);\n",
              "      border-top-color: var(--fill-color);\n",
              "      border-right-color: var(--fill-color);\n",
              "    }\n",
              "    40% {\n",
              "      border-color: transparent;\n",
              "      border-right-color: var(--fill-color);\n",
              "      border-top-color: var(--fill-color);\n",
              "    }\n",
              "    60% {\n",
              "      border-color: transparent;\n",
              "      border-right-color: var(--fill-color);\n",
              "    }\n",
              "    80% {\n",
              "      border-color: transparent;\n",
              "      border-right-color: var(--fill-color);\n",
              "      border-bottom-color: var(--fill-color);\n",
              "    }\n",
              "    90% {\n",
              "      border-color: transparent;\n",
              "      border-bottom-color: var(--fill-color);\n",
              "    }\n",
              "  }\n",
              "</style>\n",
              "\n",
              "  <script>\n",
              "    async function quickchart(key) {\n",
              "      const quickchartButtonEl =\n",
              "        document.querySelector('#' + key + ' button');\n",
              "      quickchartButtonEl.disabled = true;  // To prevent multiple clicks.\n",
              "      quickchartButtonEl.classList.add('colab-df-spinner');\n",
              "      try {\n",
              "        const charts = await google.colab.kernel.invokeFunction(\n",
              "            'suggestCharts', [key], {});\n",
              "      } catch (error) {\n",
              "        console.error('Error during call to suggestCharts:', error);\n",
              "      }\n",
              "      quickchartButtonEl.classList.remove('colab-df-spinner');\n",
              "      quickchartButtonEl.classList.add('colab-df-quickchart-complete');\n",
              "    }\n",
              "    (() => {\n",
              "      let quickchartButtonEl =\n",
              "        document.querySelector('#df-43574750-247a-44d1-800c-029d32f9427c button');\n",
              "      quickchartButtonEl.style.display =\n",
              "        google.colab.kernel.accessAllowed ? 'block' : 'none';\n",
              "    })();\n",
              "  </script>\n",
              "</div>\n",
              "\n",
              "    </div>\n",
              "  </div>\n"
            ],
            "application/vnd.google.colaboratory.intrinsic+json": {
              "type": "dataframe",
              "variable_name": "weather_df"
            }
          },
          "metadata": {},
          "execution_count": 37
        }
      ]
    },
    {
      "cell_type": "code",
      "source": [
        "weather_df = weather_df.iloc[:, :2]\n",
        "weather_df\n",
        "weather_df = weather_df.rename(columns={'Местное время в Астане': 'Дата'})\n",
        "weather_df\n",
        "weather_df['Дата'] = pd.to_datetime(weather_df['Дата'], format='%d.%m.%Y %H:%M')\n",
        "weather_df.dtypes\n",
        "weather_df['Дата'] = pd.to_datetime(weather_df['Дата']).dt.date\n",
        "\n",
        "weather_df = weather_df.groupby('Дата', as_index=False).mean()\n",
        "\n",
        "weather_df"
      ],
      "metadata": {
        "colab": {
          "base_uri": "https://localhost:8080/",
          "height": 424
        },
        "id": "_8KqMjuwoCtB",
        "outputId": "3a608985-b0ff-46f5-a3c4-607264bd2d3a"
      },
      "execution_count": null,
      "outputs": [
        {
          "output_type": "execute_result",
          "data": {
            "text/plain": [
              "           Дата        T\n",
              "0    2018-01-01  -9.4625\n",
              "1    2018-01-02  -9.5125\n",
              "2    2018-01-03 -11.4625\n",
              "3    2018-01-04 -14.0750\n",
              "4    2018-01-05 -16.8625\n",
              "..          ...      ...\n",
              "239  2018-08-28  14.1125\n",
              "240  2018-08-29  13.8250\n",
              "241  2018-08-30  14.1750\n",
              "242  2018-08-31  11.0250\n",
              "243  2018-09-01   6.8000\n",
              "\n",
              "[244 rows x 2 columns]"
            ],
            "text/html": [
              "\n",
              "  <div id=\"df-d96d88f3-23f7-45db-a229-2d8a7fd78def\" class=\"colab-df-container\">\n",
              "    <div>\n",
              "<style scoped>\n",
              "    .dataframe tbody tr th:only-of-type {\n",
              "        vertical-align: middle;\n",
              "    }\n",
              "\n",
              "    .dataframe tbody tr th {\n",
              "        vertical-align: top;\n",
              "    }\n",
              "\n",
              "    .dataframe thead th {\n",
              "        text-align: right;\n",
              "    }\n",
              "</style>\n",
              "<table border=\"1\" class=\"dataframe\">\n",
              "  <thead>\n",
              "    <tr style=\"text-align: right;\">\n",
              "      <th></th>\n",
              "      <th>Дата</th>\n",
              "      <th>T</th>\n",
              "    </tr>\n",
              "  </thead>\n",
              "  <tbody>\n",
              "    <tr>\n",
              "      <th>0</th>\n",
              "      <td>2018-01-01</td>\n",
              "      <td>-9.4625</td>\n",
              "    </tr>\n",
              "    <tr>\n",
              "      <th>1</th>\n",
              "      <td>2018-01-02</td>\n",
              "      <td>-9.5125</td>\n",
              "    </tr>\n",
              "    <tr>\n",
              "      <th>2</th>\n",
              "      <td>2018-01-03</td>\n",
              "      <td>-11.4625</td>\n",
              "    </tr>\n",
              "    <tr>\n",
              "      <th>3</th>\n",
              "      <td>2018-01-04</td>\n",
              "      <td>-14.0750</td>\n",
              "    </tr>\n",
              "    <tr>\n",
              "      <th>4</th>\n",
              "      <td>2018-01-05</td>\n",
              "      <td>-16.8625</td>\n",
              "    </tr>\n",
              "    <tr>\n",
              "      <th>...</th>\n",
              "      <td>...</td>\n",
              "      <td>...</td>\n",
              "    </tr>\n",
              "    <tr>\n",
              "      <th>239</th>\n",
              "      <td>2018-08-28</td>\n",
              "      <td>14.1125</td>\n",
              "    </tr>\n",
              "    <tr>\n",
              "      <th>240</th>\n",
              "      <td>2018-08-29</td>\n",
              "      <td>13.8250</td>\n",
              "    </tr>\n",
              "    <tr>\n",
              "      <th>241</th>\n",
              "      <td>2018-08-30</td>\n",
              "      <td>14.1750</td>\n",
              "    </tr>\n",
              "    <tr>\n",
              "      <th>242</th>\n",
              "      <td>2018-08-31</td>\n",
              "      <td>11.0250</td>\n",
              "    </tr>\n",
              "    <tr>\n",
              "      <th>243</th>\n",
              "      <td>2018-09-01</td>\n",
              "      <td>6.8000</td>\n",
              "    </tr>\n",
              "  </tbody>\n",
              "</table>\n",
              "<p>244 rows × 2 columns</p>\n",
              "</div>\n",
              "    <div class=\"colab-df-buttons\">\n",
              "\n",
              "  <div class=\"colab-df-container\">\n",
              "    <button class=\"colab-df-convert\" onclick=\"convertToInteractive('df-d96d88f3-23f7-45db-a229-2d8a7fd78def')\"\n",
              "            title=\"Convert this dataframe to an interactive table.\"\n",
              "            style=\"display:none;\">\n",
              "\n",
              "  <svg xmlns=\"http://www.w3.org/2000/svg\" height=\"24px\" viewBox=\"0 -960 960 960\">\n",
              "    <path d=\"M120-120v-720h720v720H120Zm60-500h600v-160H180v160Zm220 220h160v-160H400v160Zm0 220h160v-160H400v160ZM180-400h160v-160H180v160Zm440 0h160v-160H620v160ZM180-180h160v-160H180v160Zm440 0h160v-160H620v160Z\"/>\n",
              "  </svg>\n",
              "    </button>\n",
              "\n",
              "  <style>\n",
              "    .colab-df-container {\n",
              "      display:flex;\n",
              "      gap: 12px;\n",
              "    }\n",
              "\n",
              "    .colab-df-convert {\n",
              "      background-color: #E8F0FE;\n",
              "      border: none;\n",
              "      border-radius: 50%;\n",
              "      cursor: pointer;\n",
              "      display: none;\n",
              "      fill: #1967D2;\n",
              "      height: 32px;\n",
              "      padding: 0 0 0 0;\n",
              "      width: 32px;\n",
              "    }\n",
              "\n",
              "    .colab-df-convert:hover {\n",
              "      background-color: #E2EBFA;\n",
              "      box-shadow: 0px 1px 2px rgba(60, 64, 67, 0.3), 0px 1px 3px 1px rgba(60, 64, 67, 0.15);\n",
              "      fill: #174EA6;\n",
              "    }\n",
              "\n",
              "    .colab-df-buttons div {\n",
              "      margin-bottom: 4px;\n",
              "    }\n",
              "\n",
              "    [theme=dark] .colab-df-convert {\n",
              "      background-color: #3B4455;\n",
              "      fill: #D2E3FC;\n",
              "    }\n",
              "\n",
              "    [theme=dark] .colab-df-convert:hover {\n",
              "      background-color: #434B5C;\n",
              "      box-shadow: 0px 1px 3px 1px rgba(0, 0, 0, 0.15);\n",
              "      filter: drop-shadow(0px 1px 2px rgba(0, 0, 0, 0.3));\n",
              "      fill: #FFFFFF;\n",
              "    }\n",
              "  </style>\n",
              "\n",
              "    <script>\n",
              "      const buttonEl =\n",
              "        document.querySelector('#df-d96d88f3-23f7-45db-a229-2d8a7fd78def button.colab-df-convert');\n",
              "      buttonEl.style.display =\n",
              "        google.colab.kernel.accessAllowed ? 'block' : 'none';\n",
              "\n",
              "      async function convertToInteractive(key) {\n",
              "        const element = document.querySelector('#df-d96d88f3-23f7-45db-a229-2d8a7fd78def');\n",
              "        const dataTable =\n",
              "          await google.colab.kernel.invokeFunction('convertToInteractive',\n",
              "                                                    [key], {});\n",
              "        if (!dataTable) return;\n",
              "\n",
              "        const docLinkHtml = 'Like what you see? Visit the ' +\n",
              "          '<a target=\"_blank\" href=https://colab.research.google.com/notebooks/data_table.ipynb>data table notebook</a>'\n",
              "          + ' to learn more about interactive tables.';\n",
              "        element.innerHTML = '';\n",
              "        dataTable['output_type'] = 'display_data';\n",
              "        await google.colab.output.renderOutput(dataTable, element);\n",
              "        const docLink = document.createElement('div');\n",
              "        docLink.innerHTML = docLinkHtml;\n",
              "        element.appendChild(docLink);\n",
              "      }\n",
              "    </script>\n",
              "  </div>\n",
              "\n",
              "\n",
              "<div id=\"df-bdda45e9-7655-4bed-9f26-a3aa55dbaabd\">\n",
              "  <button class=\"colab-df-quickchart\" onclick=\"quickchart('df-bdda45e9-7655-4bed-9f26-a3aa55dbaabd')\"\n",
              "            title=\"Suggest charts\"\n",
              "            style=\"display:none;\">\n",
              "\n",
              "<svg xmlns=\"http://www.w3.org/2000/svg\" height=\"24px\"viewBox=\"0 0 24 24\"\n",
              "     width=\"24px\">\n",
              "    <g>\n",
              "        <path d=\"M19 3H5c-1.1 0-2 .9-2 2v14c0 1.1.9 2 2 2h14c1.1 0 2-.9 2-2V5c0-1.1-.9-2-2-2zM9 17H7v-7h2v7zm4 0h-2V7h2v10zm4 0h-2v-4h2v4z\"/>\n",
              "    </g>\n",
              "</svg>\n",
              "  </button>\n",
              "\n",
              "<style>\n",
              "  .colab-df-quickchart {\n",
              "      --bg-color: #E8F0FE;\n",
              "      --fill-color: #1967D2;\n",
              "      --hover-bg-color: #E2EBFA;\n",
              "      --hover-fill-color: #174EA6;\n",
              "      --disabled-fill-color: #AAA;\n",
              "      --disabled-bg-color: #DDD;\n",
              "  }\n",
              "\n",
              "  [theme=dark] .colab-df-quickchart {\n",
              "      --bg-color: #3B4455;\n",
              "      --fill-color: #D2E3FC;\n",
              "      --hover-bg-color: #434B5C;\n",
              "      --hover-fill-color: #FFFFFF;\n",
              "      --disabled-bg-color: #3B4455;\n",
              "      --disabled-fill-color: #666;\n",
              "  }\n",
              "\n",
              "  .colab-df-quickchart {\n",
              "    background-color: var(--bg-color);\n",
              "    border: none;\n",
              "    border-radius: 50%;\n",
              "    cursor: pointer;\n",
              "    display: none;\n",
              "    fill: var(--fill-color);\n",
              "    height: 32px;\n",
              "    padding: 0;\n",
              "    width: 32px;\n",
              "  }\n",
              "\n",
              "  .colab-df-quickchart:hover {\n",
              "    background-color: var(--hover-bg-color);\n",
              "    box-shadow: 0 1px 2px rgba(60, 64, 67, 0.3), 0 1px 3px 1px rgba(60, 64, 67, 0.15);\n",
              "    fill: var(--button-hover-fill-color);\n",
              "  }\n",
              "\n",
              "  .colab-df-quickchart-complete:disabled,\n",
              "  .colab-df-quickchart-complete:disabled:hover {\n",
              "    background-color: var(--disabled-bg-color);\n",
              "    fill: var(--disabled-fill-color);\n",
              "    box-shadow: none;\n",
              "  }\n",
              "\n",
              "  .colab-df-spinner {\n",
              "    border: 2px solid var(--fill-color);\n",
              "    border-color: transparent;\n",
              "    border-bottom-color: var(--fill-color);\n",
              "    animation:\n",
              "      spin 1s steps(1) infinite;\n",
              "  }\n",
              "\n",
              "  @keyframes spin {\n",
              "    0% {\n",
              "      border-color: transparent;\n",
              "      border-bottom-color: var(--fill-color);\n",
              "      border-left-color: var(--fill-color);\n",
              "    }\n",
              "    20% {\n",
              "      border-color: transparent;\n",
              "      border-left-color: var(--fill-color);\n",
              "      border-top-color: var(--fill-color);\n",
              "    }\n",
              "    30% {\n",
              "      border-color: transparent;\n",
              "      border-left-color: var(--fill-color);\n",
              "      border-top-color: var(--fill-color);\n",
              "      border-right-color: var(--fill-color);\n",
              "    }\n",
              "    40% {\n",
              "      border-color: transparent;\n",
              "      border-right-color: var(--fill-color);\n",
              "      border-top-color: var(--fill-color);\n",
              "    }\n",
              "    60% {\n",
              "      border-color: transparent;\n",
              "      border-right-color: var(--fill-color);\n",
              "    }\n",
              "    80% {\n",
              "      border-color: transparent;\n",
              "      border-right-color: var(--fill-color);\n",
              "      border-bottom-color: var(--fill-color);\n",
              "    }\n",
              "    90% {\n",
              "      border-color: transparent;\n",
              "      border-bottom-color: var(--fill-color);\n",
              "    }\n",
              "  }\n",
              "</style>\n",
              "\n",
              "  <script>\n",
              "    async function quickchart(key) {\n",
              "      const quickchartButtonEl =\n",
              "        document.querySelector('#' + key + ' button');\n",
              "      quickchartButtonEl.disabled = true;  // To prevent multiple clicks.\n",
              "      quickchartButtonEl.classList.add('colab-df-spinner');\n",
              "      try {\n",
              "        const charts = await google.colab.kernel.invokeFunction(\n",
              "            'suggestCharts', [key], {});\n",
              "      } catch (error) {\n",
              "        console.error('Error during call to suggestCharts:', error);\n",
              "      }\n",
              "      quickchartButtonEl.classList.remove('colab-df-spinner');\n",
              "      quickchartButtonEl.classList.add('colab-df-quickchart-complete');\n",
              "    }\n",
              "    (() => {\n",
              "      let quickchartButtonEl =\n",
              "        document.querySelector('#df-bdda45e9-7655-4bed-9f26-a3aa55dbaabd button');\n",
              "      quickchartButtonEl.style.display =\n",
              "        google.colab.kernel.accessAllowed ? 'block' : 'none';\n",
              "    })();\n",
              "  </script>\n",
              "</div>\n",
              "\n",
              "  <div id=\"id_d53db588-12ad-4762-834a-80bde542ef6f\">\n",
              "    <style>\n",
              "      .colab-df-generate {\n",
              "        background-color: #E8F0FE;\n",
              "        border: none;\n",
              "        border-radius: 50%;\n",
              "        cursor: pointer;\n",
              "        display: none;\n",
              "        fill: #1967D2;\n",
              "        height: 32px;\n",
              "        padding: 0 0 0 0;\n",
              "        width: 32px;\n",
              "      }\n",
              "\n",
              "      .colab-df-generate:hover {\n",
              "        background-color: #E2EBFA;\n",
              "        box-shadow: 0px 1px 2px rgba(60, 64, 67, 0.3), 0px 1px 3px 1px rgba(60, 64, 67, 0.15);\n",
              "        fill: #174EA6;\n",
              "      }\n",
              "\n",
              "      [theme=dark] .colab-df-generate {\n",
              "        background-color: #3B4455;\n",
              "        fill: #D2E3FC;\n",
              "      }\n",
              "\n",
              "      [theme=dark] .colab-df-generate:hover {\n",
              "        background-color: #434B5C;\n",
              "        box-shadow: 0px 1px 3px 1px rgba(0, 0, 0, 0.15);\n",
              "        filter: drop-shadow(0px 1px 2px rgba(0, 0, 0, 0.3));\n",
              "        fill: #FFFFFF;\n",
              "      }\n",
              "    </style>\n",
              "    <button class=\"colab-df-generate\" onclick=\"generateWithVariable('weather_df')\"\n",
              "            title=\"Generate code using this dataframe.\"\n",
              "            style=\"display:none;\">\n",
              "\n",
              "  <svg xmlns=\"http://www.w3.org/2000/svg\" height=\"24px\"viewBox=\"0 0 24 24\"\n",
              "       width=\"24px\">\n",
              "    <path d=\"M7,19H8.4L18.45,9,17,7.55,7,17.6ZM5,21V16.75L18.45,3.32a2,2,0,0,1,2.83,0l1.4,1.43a1.91,1.91,0,0,1,.58,1.4,1.91,1.91,0,0,1-.58,1.4L9.25,21ZM18.45,9,17,7.55Zm-12,3A5.31,5.31,0,0,0,4.9,8.1,5.31,5.31,0,0,0,1,6.5,5.31,5.31,0,0,0,4.9,4.9,5.31,5.31,0,0,0,6.5,1,5.31,5.31,0,0,0,8.1,4.9,5.31,5.31,0,0,0,12,6.5,5.46,5.46,0,0,0,6.5,12Z\"/>\n",
              "  </svg>\n",
              "    </button>\n",
              "    <script>\n",
              "      (() => {\n",
              "      const buttonEl =\n",
              "        document.querySelector('#id_d53db588-12ad-4762-834a-80bde542ef6f button.colab-df-generate');\n",
              "      buttonEl.style.display =\n",
              "        google.colab.kernel.accessAllowed ? 'block' : 'none';\n",
              "\n",
              "      buttonEl.onclick = () => {\n",
              "        google.colab.notebook.generateWithVariable('weather_df');\n",
              "      }\n",
              "      })();\n",
              "    </script>\n",
              "  </div>\n",
              "\n",
              "    </div>\n",
              "  </div>\n"
            ],
            "application/vnd.google.colaboratory.intrinsic+json": {
              "type": "dataframe",
              "variable_name": "weather_df",
              "summary": "{\n  \"name\": \"weather_df\",\n  \"rows\": 244,\n  \"fields\": [\n    {\n      \"column\": \"\\u0414\\u0430\\u0442\\u0430\",\n      \"properties\": {\n        \"dtype\": \"date\",\n        \"min\": \"2018-01-01\",\n        \"max\": \"2018-09-01\",\n        \"num_unique_values\": 244,\n        \"samples\": [\n          \"2018-01-25\",\n          \"2018-01-07\",\n          \"2018-06-03\"\n        ],\n        \"semantic_type\": \"\",\n        \"description\": \"\"\n      }\n    },\n    {\n      \"column\": \"T\",\n      \"properties\": {\n        \"dtype\": \"number\",\n        \"std\": 15.547557779100465,\n        \"min\": -34.6625,\n        \"max\": 27.1,\n        \"num_unique_values\": 237,\n        \"samples\": [\n          8.4625,\n          -21.375,\n          21.225\n        ],\n        \"semantic_type\": \"\",\n        \"description\": \"\"\n      }\n    }\n  ]\n}"
            }
          },
          "metadata": {},
          "execution_count": 41
        }
      ]
    },
    {
      "cell_type": "code",
      "source": [
        "weather_df['Дата'] = pd.to_datetime(weather_df['Дата'], format='%d-%m-%Y')\n",
        "weather_df.dtypes"
      ],
      "metadata": {
        "colab": {
          "base_uri": "https://localhost:8080/",
          "height": 241
        },
        "id": "Ip5vdkzPoQBv",
        "outputId": "811c9db8-ebb3-46a1-c247-be7797591c00"
      },
      "execution_count": null,
      "outputs": [
        {
          "output_type": "execute_result",
          "data": {
            "text/plain": [
              "Дата                         datetime64[ns]\n",
              "T                                   float64\n",
              "Общее количество продаж_x             int64\n",
              "Общее количество продаж_y             int64\n",
              "Общее количество продаж               int64\n",
              "dtype: object"
            ],
            "text/html": [
              "<div>\n",
              "<style scoped>\n",
              "    .dataframe tbody tr th:only-of-type {\n",
              "        vertical-align: middle;\n",
              "    }\n",
              "\n",
              "    .dataframe tbody tr th {\n",
              "        vertical-align: top;\n",
              "    }\n",
              "\n",
              "    .dataframe thead th {\n",
              "        text-align: right;\n",
              "    }\n",
              "</style>\n",
              "<table border=\"1\" class=\"dataframe\">\n",
              "  <thead>\n",
              "    <tr style=\"text-align: right;\">\n",
              "      <th></th>\n",
              "      <th>0</th>\n",
              "    </tr>\n",
              "  </thead>\n",
              "  <tbody>\n",
              "    <tr>\n",
              "      <th>Дата</th>\n",
              "      <td>datetime64[ns]</td>\n",
              "    </tr>\n",
              "    <tr>\n",
              "      <th>T</th>\n",
              "      <td>float64</td>\n",
              "    </tr>\n",
              "    <tr>\n",
              "      <th>Общее количество продаж_x</th>\n",
              "      <td>int64</td>\n",
              "    </tr>\n",
              "    <tr>\n",
              "      <th>Общее количество продаж_y</th>\n",
              "      <td>int64</td>\n",
              "    </tr>\n",
              "    <tr>\n",
              "      <th>Общее количество продаж</th>\n",
              "      <td>int64</td>\n",
              "    </tr>\n",
              "  </tbody>\n",
              "</table>\n",
              "</div><br><label><b>dtype:</b> object</label>"
            ]
          },
          "metadata": {},
          "execution_count": 49
        }
      ]
    },
    {
      "cell_type": "code",
      "source": [
        "import pandas as pd\n",
        "\n",
        "# Sample Sales Data (You can replace this with your actual data)\n",
        "sales_data = [\n",
        "    [\"2018-01-04\", 1, \"address_0\", \"product_0\", 4],\n",
        "    [\"2018-01-04\", 1, \"address_0\", \"product_1\", 4],\n",
        "    [\"2018-01-04\", 1, \"address_0\", \"product_2\", 5],\n",
        "    [\"2018-01-04\", 1, \"address_0\", \"product_3\", 10],\n",
        "    [\"2018-01-04\", 1, \"address_0\", \"product_4\", 2]\n",
        "]\n",
        "\n",
        "# Creating a DataFrame\n",
        "sales_df = pd.DataFrame(sales_data, columns=['Дата', 'Склад', 'Контрагент', 'Номенклатура', 'Количество'])\n",
        "\n",
        "# Display the DataFrame\n",
        "print(sales_df)"
      ],
      "metadata": {
        "colab": {
          "base_uri": "https://localhost:8080/"
        },
        "id": "L_ye54cOpQ90",
        "outputId": "479cfebe-44d9-4e80-d05c-9e4f716d8b26"
      },
      "execution_count": null,
      "outputs": [
        {
          "output_type": "stream",
          "name": "stdout",
          "text": [
            "         Дата  Склад Контрагент Номенклатура  Количество\n",
            "0  2018-01-04      1  address_0    product_0           4\n",
            "1  2018-01-04      1  address_0    product_1           4\n",
            "2  2018-01-04      1  address_0    product_2           5\n",
            "3  2018-01-04      1  address_0    product_3          10\n",
            "4  2018-01-04      1  address_0    product_4           2\n"
          ]
        }
      ]
    },
    {
      "cell_type": "code",
      "source": [
        "# Sample Weather Data (Replace with your actual data)\n",
        "weather_data = [\n",
        "    [\"01.09.2018 23:00\", 5.5], [\"01.09.2018 20:00\", 6.1], [\"01.09.2018 17:00\", 7.5],\n",
        "    [\"01.09.2018 14:00\", 9.1], [\"01.09.2018 11:00\", 7.7]\n",
        "]\n",
        "\n",
        "# Creating a DataFrame\n",
        "weather_df = pd.DataFrame(weather_data, columns=['Дата', 'T'])\n",
        "\n",
        "# Display the DataFrame\n",
        "print(weather_df)"
      ],
      "metadata": {
        "colab": {
          "base_uri": "https://localhost:8080/"
        },
        "id": "m5x6DBKApTmB",
        "outputId": "f1e71664-84dc-4fa9-f28d-fc28ef98a3ca"
      },
      "execution_count": null,
      "outputs": [
        {
          "output_type": "stream",
          "name": "stdout",
          "text": [
            "               Дата    T\n",
            "0  01.09.2018 23:00  5.5\n",
            "1  01.09.2018 20:00  6.1\n",
            "2  01.09.2018 17:00  7.5\n",
            "3  01.09.2018 14:00  9.1\n",
            "4  01.09.2018 11:00  7.7\n"
          ]
        }
      ]
    },
    {
      "cell_type": "code",
      "source": [
        "# Preprocess Sales Data (Convert 'Дата' to datetime)\n",
        "sales_df['Дата'] = pd.to_datetime(sales_df['Дата']).dt.date\n",
        "\n",
        "# Preprocess Weather Data (Convert 'Дата' to datetime and extract date only)\n",
        "weather_df['Дата'] = pd.to_datetime(weather_df['Дата'], format='%d.%m.%Y %H:%M').dt.date\n",
        "\n",
        "# Display the cleaned data\n",
        "print(sales_df)\n",
        "print(weather_df)"
      ],
      "metadata": {
        "colab": {
          "base_uri": "https://localhost:8080/"
        },
        "id": "7ut8UreVpYw-",
        "outputId": "eee7b214-9c47-4925-8213-5ffac4d9f1b4"
      },
      "execution_count": null,
      "outputs": [
        {
          "output_type": "stream",
          "name": "stdout",
          "text": [
            "         Дата  Склад Контрагент Номенклатура  Количество\n",
            "0  2018-01-04      1  address_0    product_0           4\n",
            "1  2018-01-04      1  address_0    product_1           4\n",
            "2  2018-01-04      1  address_0    product_2           5\n",
            "3  2018-01-04      1  address_0    product_3          10\n",
            "4  2018-01-04      1  address_0    product_4           2\n",
            "         Дата    T\n",
            "0  2018-09-01  5.5\n",
            "1  2018-09-01  6.1\n",
            "2  2018-09-01  7.5\n",
            "3  2018-09-01  9.1\n",
            "4  2018-09-01  7.7\n"
          ]
        }
      ]
    },
    {
      "cell_type": "code",
      "source": [
        "# Merge the DataFrames on 'Дата'\n",
        "merged_df = pd.merge(sales_df.groupby('Дата')['Количество'].sum().reset_index(), weather_df, on='Дата')\n",
        "\n",
        "# Display the merged DataFrame\n",
        "print(merged_df)"
      ],
      "metadata": {
        "colab": {
          "base_uri": "https://localhost:8080/"
        },
        "id": "3NoL7-fypd33",
        "outputId": "de21eb1b-9f04-4eef-bdea-192ca1f2e8a1"
      },
      "execution_count": null,
      "outputs": [
        {
          "output_type": "stream",
          "name": "stdout",
          "text": [
            "Empty DataFrame\n",
            "Columns: [Дата, Количество, T]\n",
            "Index: []\n"
          ]
        }
      ]
    },
    {
      "cell_type": "code",
      "source": [
        "import matplotlib.pyplot as plt\n",
        "\n",
        "# Plot 'Количество' and 'T' on the same graph\n",
        "plt.figure(figsize=(10, 6))\n",
        "plt.plot(merged_df['Дата'], merged_df['Количество'], label='Количество продаж', marker='o')\n",
        "plt.plot(merged_df['Дата'], merged_df['T'], label='Температура (T)', marker='x')\n",
        "plt.xlabel('Дата')\n",
        "plt.ylabel('Значение')\n",
        "plt.title('Количество продаж и Температура по дням')\n",
        "plt.legend()\n",
        "plt.xticks(rotation=45)\n",
        "plt.tight_layout()\n",
        "plt.show()\n",
        "\n",
        "# Plot temperature 'T' alone\n",
        "plt.figure(figsize=(10, 6))\n",
        "plt.plot(merged_df['Дата'], merged_df['T'], label='Температура (T)', marker='x', color='orange')\n",
        "plt.xlabel('Дата')\n",
        "plt.ylabel('Температура (T)')\n",
        "plt.title('Температура по дням')\n",
        "plt.xticks(rotation=45)\n",
        "plt.tight_layout()\n",
        "plt.show()"
      ],
      "metadata": {
        "colab": {
          "base_uri": "https://localhost:8080/",
          "height": 1000
        },
        "id": "Rkxs7Iftp6RQ",
        "outputId": "a4732a98-edd3-4a20-d11c-d2e5f376320b"
      },
      "execution_count": null,
      "outputs": [
        {
          "output_type": "display_data",
          "data": {
            "text/plain": [
              "<Figure size 1000x600 with 1 Axes>"
            ],
            "image/png": "[encoded data removed]"
          },
          "metadata": {}
        },
        {
          "output_type": "display_data",
          "data": {
            "text/plain": [
              "<Figure size 1000x600 with 1 Axes>"
            ],
            "image/png": "[encoded data removed]"
          },
          "metadata": {}
        }
      ]
    }
  ]
}